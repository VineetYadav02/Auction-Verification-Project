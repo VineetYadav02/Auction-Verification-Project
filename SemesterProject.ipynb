{
 "cells": [
  {
   "cell_type": "code",
   "execution_count": 106,
   "id": "f1c9dbb6",
   "metadata": {},
   "outputs": [],
   "source": [
    "import pandas as pd\n",
    "import numpy as np\n",
    "import matplotlib as plt"
   ]
  },
  {
   "cell_type": "code",
   "execution_count": 107,
   "id": "93f37df8",
   "metadata": {},
   "outputs": [],
   "source": [
    "data1=pd.read_csv(\"mydata.csv\",na_values=\"?\")"
   ]
  },
  {
   "cell_type": "code",
   "execution_count": 112,
   "id": "05654369",
   "metadata": {},
   "outputs": [
    {
     "name": "stdout",
     "output_type": "stream",
     "text": [
      "   a  b  c  d   e  f  g      h           i\n",
      "0  0  0  2  1  59  1  0  False  163.316667\n",
      "1  0  0  2  1  59  2  0  False  200.860000\n",
      "2  0  0  2  1  59  4  0  False  154.888889\n",
      "3  0  0  2  1  59  6  0  False  108.640000\n",
      "4  0  0  2  1  60  1  0   True   85.466667\n"
     ]
    }
   ],
   "source": [
    "#print(df)\n",
    "#print(df.isna().sum())\n",
    "#print(df.head())\n",
    "print(data1.head())"
   ]
  },
  {
   "cell_type": "code",
   "execution_count": 109,
   "id": "44e4c12a",
   "metadata": {},
   "outputs": [
    {
     "data": {
      "text/html": [
       "<div>\n",
       "<style scoped>\n",
       "    .dataframe tbody tr th:only-of-type {\n",
       "        vertical-align: middle;\n",
       "    }\n",
       "\n",
       "    .dataframe tbody tr th {\n",
       "        vertical-align: top;\n",
       "    }\n",
       "\n",
       "    .dataframe thead th {\n",
       "        text-align: right;\n",
       "    }\n",
       "</style>\n",
       "<table border=\"1\" class=\"dataframe\">\n",
       "  <thead>\n",
       "    <tr style=\"text-align: right;\">\n",
       "      <th></th>\n",
       "      <th>a</th>\n",
       "      <th>b</th>\n",
       "      <th>c</th>\n",
       "      <th>d</th>\n",
       "      <th>e</th>\n",
       "      <th>f</th>\n",
       "      <th>g</th>\n",
       "      <th>h</th>\n",
       "      <th>i</th>\n",
       "    </tr>\n",
       "  </thead>\n",
       "  <tbody>\n",
       "    <tr>\n",
       "      <th>0</th>\n",
       "      <td>0</td>\n",
       "      <td>0</td>\n",
       "      <td>2</td>\n",
       "      <td>1</td>\n",
       "      <td>59</td>\n",
       "      <td>1</td>\n",
       "      <td>0</td>\n",
       "      <td>False</td>\n",
       "      <td>163.316667</td>\n",
       "    </tr>\n",
       "    <tr>\n",
       "      <th>1</th>\n",
       "      <td>0</td>\n",
       "      <td>0</td>\n",
       "      <td>2</td>\n",
       "      <td>1</td>\n",
       "      <td>59</td>\n",
       "      <td>2</td>\n",
       "      <td>0</td>\n",
       "      <td>False</td>\n",
       "      <td>200.860000</td>\n",
       "    </tr>\n",
       "    <tr>\n",
       "      <th>2</th>\n",
       "      <td>0</td>\n",
       "      <td>0</td>\n",
       "      <td>2</td>\n",
       "      <td>1</td>\n",
       "      <td>59</td>\n",
       "      <td>4</td>\n",
       "      <td>0</td>\n",
       "      <td>False</td>\n",
       "      <td>154.888889</td>\n",
       "    </tr>\n",
       "    <tr>\n",
       "      <th>3</th>\n",
       "      <td>0</td>\n",
       "      <td>0</td>\n",
       "      <td>2</td>\n",
       "      <td>1</td>\n",
       "      <td>59</td>\n",
       "      <td>6</td>\n",
       "      <td>0</td>\n",
       "      <td>False</td>\n",
       "      <td>108.640000</td>\n",
       "    </tr>\n",
       "    <tr>\n",
       "      <th>4</th>\n",
       "      <td>0</td>\n",
       "      <td>0</td>\n",
       "      <td>2</td>\n",
       "      <td>1</td>\n",
       "      <td>60</td>\n",
       "      <td>1</td>\n",
       "      <td>0</td>\n",
       "      <td>True</td>\n",
       "      <td>85.466667</td>\n",
       "    </tr>\n",
       "  </tbody>\n",
       "</table>\n",
       "</div>"
      ],
      "text/plain": [
       "   a  b  c  d   e  f  g      h           i\n",
       "0  0  0  2  1  59  1  0  False  163.316667\n",
       "1  0  0  2  1  59  2  0  False  200.860000\n",
       "2  0  0  2  1  59  4  0  False  154.888889\n",
       "3  0  0  2  1  59  6  0  False  108.640000\n",
       "4  0  0  2  1  60  1  0   True   85.466667"
      ]
     },
     "execution_count": 109,
     "metadata": {},
     "output_type": "execute_result"
    }
   ],
   "source": [
    "#Rename columns Name\n",
    "df=pd.DataFrame(data1)\n",
    "df.columns=['a','b','c','d','e','f','g','h','i']\n",
    "df.head()"
   ]
  },
  {
   "cell_type": "code",
   "execution_count": 113,
   "id": "fc9638ef",
   "metadata": {},
   "outputs": [
    {
     "name": "stdout",
     "output_type": "stream",
     "text": [
      "[0 1 2]\n",
      "[0 1 2 3]\n",
      "[2 1]\n",
      "[1 0]\n",
      "[59 60 69 70 61 62 63 64 65 66 67 68 71 72 73 74 75 76 77 78 79 80 81 82\n",
      " 83 84 85 86 87 88 89 90]\n",
      "[1 2 4 6 3 5]\n",
      "[0 3 4 2 1]\n",
      "[False  True]\n",
      "[ 163.31666667  200.86        154.88888889 ... 9365.45       8474.025\n",
      "   82.00833333]\n"
     ]
    }
   ],
   "source": [
    "#printing unique values in each Attribute (features)\n",
    "for i in df.columns:\n",
    "    print(df[i].unique())"
   ]
  },
  {
   "cell_type": "code",
   "execution_count": 115,
   "id": "190f7c32",
   "metadata": {},
   "outputs": [
    {
     "name": "stdout",
     "output_type": "stream",
     "text": [
      "<class 'pandas.core.frame.DataFrame'>\n",
      "RangeIndex: 2043 entries, 0 to 2042\n",
      "Data columns (total 9 columns):\n",
      " #   Column  Non-Null Count  Dtype  \n",
      "---  ------  --------------  -----  \n",
      " 0   a       2043 non-null   int64  \n",
      " 1   b       2043 non-null   int64  \n",
      " 2   c       2043 non-null   int64  \n",
      " 3   d       2043 non-null   int64  \n",
      " 4   e       2043 non-null   int64  \n",
      " 5   f       2043 non-null   int64  \n",
      " 6   g       2043 non-null   int64  \n",
      " 7   h       2043 non-null   bool   \n",
      " 8   i       2043 non-null   float64\n",
      "dtypes: bool(1), float64(1), int64(7)\n",
      "memory usage: 129.8 KB\n",
      "None\n"
     ]
    }
   ],
   "source": [
    "#Print Information about the data\n",
    "print(df.info())"
   ]
  },
  {
   "cell_type": "code",
   "execution_count": 116,
   "id": "e7e0cdfc",
   "metadata": {},
   "outputs": [
    {
     "name": "stdout",
     "output_type": "stream",
     "text": [
      "[0 0 0 ... 0 0 1]\n"
     ]
    },
    {
     "data": {
      "text/html": [
       "<div>\n",
       "<style scoped>\n",
       "    .dataframe tbody tr th:only-of-type {\n",
       "        vertical-align: middle;\n",
       "    }\n",
       "\n",
       "    .dataframe tbody tr th {\n",
       "        vertical-align: top;\n",
       "    }\n",
       "\n",
       "    .dataframe thead th {\n",
       "        text-align: right;\n",
       "    }\n",
       "</style>\n",
       "<table border=\"1\" class=\"dataframe\">\n",
       "  <thead>\n",
       "    <tr style=\"text-align: right;\">\n",
       "      <th></th>\n",
       "      <th>a</th>\n",
       "      <th>b</th>\n",
       "      <th>c</th>\n",
       "      <th>d</th>\n",
       "      <th>e</th>\n",
       "      <th>f</th>\n",
       "      <th>g</th>\n",
       "      <th>i</th>\n",
       "      <th>h</th>\n",
       "    </tr>\n",
       "  </thead>\n",
       "  <tbody>\n",
       "    <tr>\n",
       "      <th>0</th>\n",
       "      <td>0</td>\n",
       "      <td>0</td>\n",
       "      <td>2</td>\n",
       "      <td>1</td>\n",
       "      <td>59</td>\n",
       "      <td>1</td>\n",
       "      <td>0</td>\n",
       "      <td>163.316667</td>\n",
       "      <td>0</td>\n",
       "    </tr>\n",
       "    <tr>\n",
       "      <th>1</th>\n",
       "      <td>0</td>\n",
       "      <td>0</td>\n",
       "      <td>2</td>\n",
       "      <td>1</td>\n",
       "      <td>59</td>\n",
       "      <td>2</td>\n",
       "      <td>0</td>\n",
       "      <td>200.860000</td>\n",
       "      <td>0</td>\n",
       "    </tr>\n",
       "    <tr>\n",
       "      <th>2</th>\n",
       "      <td>0</td>\n",
       "      <td>0</td>\n",
       "      <td>2</td>\n",
       "      <td>1</td>\n",
       "      <td>59</td>\n",
       "      <td>4</td>\n",
       "      <td>0</td>\n",
       "      <td>154.888889</td>\n",
       "      <td>0</td>\n",
       "    </tr>\n",
       "    <tr>\n",
       "      <th>3</th>\n",
       "      <td>0</td>\n",
       "      <td>0</td>\n",
       "      <td>2</td>\n",
       "      <td>1</td>\n",
       "      <td>59</td>\n",
       "      <td>6</td>\n",
       "      <td>0</td>\n",
       "      <td>108.640000</td>\n",
       "      <td>0</td>\n",
       "    </tr>\n",
       "    <tr>\n",
       "      <th>4</th>\n",
       "      <td>0</td>\n",
       "      <td>0</td>\n",
       "      <td>2</td>\n",
       "      <td>1</td>\n",
       "      <td>60</td>\n",
       "      <td>1</td>\n",
       "      <td>0</td>\n",
       "      <td>85.466667</td>\n",
       "      <td>1</td>\n",
       "    </tr>\n",
       "  </tbody>\n",
       "</table>\n",
       "</div>"
      ],
      "text/plain": [
       "   a  b  c  d   e  f  g           i  h\n",
       "0  0  0  2  1  59  1  0  163.316667  0\n",
       "1  0  0  2  1  59  2  0  200.860000  0\n",
       "2  0  0  2  1  59  4  0  154.888889  0\n",
       "3  0  0  2  1  59  6  0  108.640000  0\n",
       "4  0  0  2  1  60  1  0   85.466667  1"
      ]
     },
     "execution_count": 116,
     "metadata": {},
     "output_type": "execute_result"
    }
   ],
   "source": [
    "#Change Categorical data into numerical Data\n",
    "from sklearn.preprocessing import LabelEncoder\n",
    "LE=LabelEncoder()\n",
    "encoded=LE.fit_transform(df['h'])\n",
    "print(data)\n",
    "# removing the original column 'Purchased' from df\n",
    "df.drop(\"h\", axis=1, inplace=True) \n",
    "# Appending the array to our dataFrame\n",
    "df[\"h\"] = encoded\n",
    "# printing Dataframe\n",
    "df.head()"
   ]
  },
  {
   "cell_type": "code",
   "execution_count": 117,
   "id": "a3a5061b",
   "metadata": {},
   "outputs": [
    {
     "data": {
      "text/plain": [
       "(2043, 9)"
      ]
     },
     "execution_count": 117,
     "metadata": {},
     "output_type": "execute_result"
    }
   ],
   "source": [
    "df.shape"
   ]
  },
  {
   "cell_type": "code",
   "execution_count": 118,
   "id": "bca2cecd",
   "metadata": {},
   "outputs": [
    {
     "name": "stdout",
     "output_type": "stream",
     "text": [
      "(1430, 7) (613, 7) (1430,) (613,)\n"
     ]
    }
   ],
   "source": [
    "# Training the data\n",
    "from sklearn.model_selection import train_test_split\n",
    "xtrain,xtest,ytrain,ytest=train_test_split(df.drop(columns=['h','i']),df['h'],test_size=0.3)\n",
    "print(xtrain.shape,xtest.shape,ytrain.shape,ytest.shape)"
   ]
  },
  {
   "cell_type": "code",
   "execution_count": 119,
   "id": "d96043e2",
   "metadata": {},
   "outputs": [],
   "source": [
    "from sklearn.metrics import accuracy_score"
   ]
  },
  {
   "cell_type": "code",
   "execution_count": 120,
   "id": "a06e828f",
   "metadata": {},
   "outputs": [
    {
     "data": {
      "text/plain": [
       "Perceptron(eta0=2, n_iter_no_change=6)"
      ]
     },
     "execution_count": 120,
     "metadata": {},
     "output_type": "execute_result"
    }
   ],
   "source": [
    "# Perceptron Model\n",
    "from sklearn.linear_model import Perceptron\n",
    "model_pt = Perceptron(fit_intercept=True,shuffle=True,eta0=2,n_iter_no_change=6)\n",
    "model_pt.fit(xtrain, ytrain)\n"
   ]
  },
  {
   "cell_type": "code",
   "execution_count": 121,
   "id": "65c4b4ed",
   "metadata": {},
   "outputs": [
    {
     "name": "stdout",
     "output_type": "stream",
     "text": [
      "Training accuracy is :  0.8384615384615385\n",
      "Testing accuracy is :  0.8450244698205547\n"
     ]
    }
   ],
   "source": [
    "# Training and testing accuracy of Model\n",
    "print(\"Training accuracy is : \" , accuracy_score(model_pt.predict(xtrain),ytrain))\n",
    "print(\"Testing accuracy is : \" , accuracy_score(model_pt.predict(xtest),ytest))"
   ]
  },
  {
   "cell_type": "code",
   "execution_count": 122,
   "id": "72b1be12",
   "metadata": {},
   "outputs": [
    {
     "data": {
      "text/plain": [
       "DecisionTreeClassifier(criterion='entropy', max_depth=4, splitter='random')"
      ]
     },
     "execution_count": 122,
     "metadata": {},
     "output_type": "execute_result"
    }
   ],
   "source": [
    "# Decision Tree \n",
    "from sklearn.tree import DecisionTreeClassifier\n",
    "#model_tree = DecisionTreeClassifier(criterion='gini', splitter='best', max_depth=None)\n",
    "model_tree = DecisionTreeClassifier(criterion='entropy', splitter='random', max_depth=4)\n",
    "model_tree.fit(xtrain, ytrain)\n"
   ]
  },
  {
   "cell_type": "code",
   "execution_count": 123,
   "id": "68edd55b",
   "metadata": {},
   "outputs": [
    {
     "name": "stdout",
     "output_type": "stream",
     "text": [
      "Training accuracy is :  0.9090909090909091\n",
      "Testing accuracy is :  0.9053833605220228\n"
     ]
    }
   ],
   "source": [
    "# Training and testing accuracy of Decision Tree Model\n",
    "print(\"Training accuracy is : \" , accuracy_score(model_tree.predict(xtrain),ytrain))\n",
    "print(\"Testing accuracy is : \" , accuracy_score(model_tree.predict(xtest),ytest))\n",
    "# training accuracy is 1.0 and testing accuracy is .99 for gini "
   ]
  },
  {
   "cell_type": "code",
   "execution_count": 124,
   "id": "c7f9f007",
   "metadata": {},
   "outputs": [
    {
     "data": {
      "text/plain": [
       "SVC(degree=5, kernel='poly', tol=0.002)"
      ]
     },
     "execution_count": 124,
     "metadata": {},
     "output_type": "execute_result"
    }
   ],
   "source": [
    "# Support Vector Machine Model\n",
    "from sklearn.svm import SVC\n",
    "model_svm=SVC(C=1.0, kernel='poly', degree=5, tol=0.002, verbose=False, max_iter=-1,\n",
    "              decision_function_shape='ovr', random_state=None)\n",
    "model_svm.fit(xtrain, ytrain)"
   ]
  },
  {
   "cell_type": "code",
   "execution_count": 125,
   "id": "1658b2fd",
   "metadata": {},
   "outputs": [
    {
     "name": "stdout",
     "output_type": "stream",
     "text": [
      "Training accuracy is :  0.872027972027972\n",
      "Testing accuracy is :  0.8711256117455138\n"
     ]
    }
   ],
   "source": [
    "# Training and testing accuracy of SVM Model\n",
    "print(\"Training accuracy is : \" , accuracy_score(model_svm.predict(xtrain),ytrain))\n",
    "print(\"Testing accuracy is : \" , accuracy_score(model_svm.predict(xtest),ytest))"
   ]
  },
  {
   "cell_type": "code",
   "execution_count": 126,
   "id": "68662e03",
   "metadata": {},
   "outputs": [
    {
     "data": {
      "text/plain": [
       "GaussianNB()"
      ]
     },
     "execution_count": 126,
     "metadata": {},
     "output_type": "execute_result"
    }
   ],
   "source": [
    "# Naive Bayes Model\n",
    "from sklearn.naive_bayes import GaussianNB\n",
    "model_nb= GaussianNB()\n",
    "model_nb.fit(xtrain, ytrain)"
   ]
  },
  {
   "cell_type": "code",
   "execution_count": 127,
   "id": "de2185df",
   "metadata": {},
   "outputs": [
    {
     "name": "stdout",
     "output_type": "stream",
     "text": [
      "Training accuracy is :  0.83006993006993\n",
      "Testing accuracy is :  0.833605220228385\n"
     ]
    }
   ],
   "source": [
    "# Training and testing accuracy of Naive Bayes Model\n",
    "print(\"Training accuracy is : \" , accuracy_score(model_nb.predict(xtrain),ytrain))\n",
    "print(\"Testing accuracy is : \" , accuracy_score(model_nb.predict(xtest),ytest))"
   ]
  },
  {
   "cell_type": "code",
   "execution_count": null,
   "id": "69b8d84f",
   "metadata": {},
   "outputs": [],
   "source": []
  }
 ],
 "metadata": {
  "kernelspec": {
   "display_name": "Python 3 (ipykernel)",
   "language": "python",
   "name": "python3"
  },
  "language_info": {
   "codemirror_mode": {
    "name": "ipython",
    "version": 3
   },
   "file_extension": ".py",
   "mimetype": "text/x-python",
   "name": "python",
   "nbconvert_exporter": "python",
   "pygments_lexer": "ipython3",
   "version": "3.9.13"
  }
 },
 "nbformat": 4,
 "nbformat_minor": 5
}
